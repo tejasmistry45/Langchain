{
 "cells": [
  {
   "cell_type": "code",
   "execution_count": 17,
   "id": "4af9c950",
   "metadata": {},
   "outputs": [],
   "source": [
    "from langchain_community.tools.tavily_search import TavilySearchResults\n",
    "from langchain_core.messages import HumanMessage\n",
    "from langgraph.checkpoint.memory import MemorySaver\n",
    "from langgraph.prebuilt import create_react_agent\n",
    "from langchain_google_genai import ChatGoogleGenerativeAI\n",
    "from dotenv import load_dotenv\n",
    "from langchain_groq import ChatGroq"
   ]
  },
  {
   "cell_type": "code",
   "execution_count": 21,
   "id": "348e9f28",
   "metadata": {},
   "outputs": [],
   "source": [
    "# create The Agent\n",
    "\n",
    "load_dotenv()\n",
    "\n",
    "memory = MemorySaver()\n",
    "\n",
    "llm = ChatGroq(model=\"llama-3.1-8b-instant\")\n",
    "\n",
    "search = TavilySearchResults(max_results=2)\n",
    "\n",
    "tools = [search]\n",
    "\n",
    "agent_executor = create_react_agent(llm, tools, checkpointer=memory)"
   ]
  },
  {
   "cell_type": "code",
   "execution_count": 22,
   "id": "8f60a9ca",
   "metadata": {},
   "outputs": [
    {
     "name": "stdout",
     "output_type": "stream",
     "text": [
      "================================\u001b[1m Human Message \u001b[0m=================================\n",
      "\n",
      "what the weather in valsad? now\n",
      "==================================\u001b[1m Ai Message \u001b[0m==================================\n",
      "Tool Calls:\n",
      "  tavily_search_results_json (call_heky)\n",
      " Call ID: call_heky\n",
      "  Args:\n",
      "    query: valsad weather now\n",
      "=================================\u001b[1m Tool Message \u001b[0m=================================\n",
      "Name: tavily_search_results_json\n",
      "\n",
      "[{\"title\": \"Valsad 30 days weather forecast, Valsad weather forecast | QWeather\", \"url\": \"https://www.qweather.com/en/weather30d/valsad-4BB9D.html\", \"content\": \"Gujarat - India   2025-06-03   Tuesday   20.63N, 72.93E\\n\\n# Valsad\\n\\n# Valsad\\n\\nIn the next 30 days, there will be 21 days of rain, the Max Temp is 35°(03-Jun, 05-Jun, 06-Jun) and the Min Temp is 26°(03-Jun, 17-Jun, 18-Jun, 19-Jun).\\n\\nSun\\n\\nMon\\n\\nTue\\n\\nWed\\n\\nThu\\n\\nFri\\n\\nSat\\n\\n![QWeather](https://a.hecdn.net/img/common/icon/202106d/101.png)\\n\\n35°~26°\\n\\n![QWeather](https://a.hecdn.net/img/common/icon/202106d/102.png)\\n\\n34°~27°\\n\\n![QWeather](https://a.hecdn.net/img/common/icon/202106d/502.png)\\n\\n35°~27° [...] © 2025 qweather.com All rights reserved\", \"score\": 0.9075175}, {\"title\": \"Valsad Weather Forecast 2 Jun 2025 - Times of India\", \"url\": \"https://timesofindia.indiatimes.com/weather/valsad-weather-forecast-today/396001\", \"content\": \"Today's Weather in Valsad: In Valsad today, the weather is expected to be Partly Cloudy with a maximum temperature of 33°C and a minimum of 27°C. Sunrise in\", \"score\": 0.8033131}]\n",
      "==================================\u001b[1m Ai Message \u001b[0m==================================\n",
      "Tool Calls:\n",
      "  tavily_search_results_json (call_wh2v)\n",
      " Call ID: call_wh2v\n",
      "  Args:\n",
      "    query: valsad weather today\n",
      "=================================\u001b[1m Tool Message \u001b[0m=================================\n",
      "Name: tavily_search_results_json\n",
      "\n",
      "[{\"title\": \"Valsad 30 days weather forecast, Valsad weather forecast | QWeather\", \"url\": \"https://www.qweather.com/en/weather30d/valsad-4BB9D.html\", \"content\": \"Gujarat - India   2025-06-03   Tuesday   20.63N, 72.93E\\n\\n# Valsad\\n\\n# Valsad\\n\\nIn the next 30 days, there will be 21 days of rain, the Max Temp is 35°(03-Jun, 05-Jun, 06-Jun) and the Min Temp is 26°(03-Jun, 17-Jun, 18-Jun, 19-Jun).\\n\\nSun\\n\\nMon\\n\\nTue\\n\\nWed\\n\\nThu\\n\\nFri\\n\\nSat\\n\\n![QWeather](https://a.hecdn.net/img/common/icon/202106d/101.png)\\n\\n35°~26°\\n\\n![QWeather](https://a.hecdn.net/img/common/icon/202106d/102.png)\\n\\n34°~27°\\n\\n![QWeather](https://a.hecdn.net/img/common/icon/202106d/502.png)\\n\\n35°~27°\", \"score\": 0.9075175}, {\"title\": \"Valsad Weather Forecast 2 Jun 2025 - Times of India\", \"url\": \"https://timesofindia.indiatimes.com/weather/valsad-weather-forecast-today/396001\", \"content\": \"Today's Weather in Valsad: In Valsad today, the weather is expected to be Partly Cloudy with a maximum temperature of 33°C and a minimum of 27°C. Sunrise in\", \"score\": 0.8033131}]\n",
      "==================================\u001b[1m Ai Message \u001b[0m==================================\n",
      "\n",
      "The current weather in Valsad is Partly Cloudy with a maximum temperature of 33°C and a minimum of 27°C.\n"
     ]
    }
   ],
   "source": [
    "# Use the agent\n",
    "\n",
    "config = {\n",
    "    \"configurable\" : {\"thread_id\": \"1\"}\n",
    "}\n",
    "\n",
    "for step in agent_executor.stream(\n",
    "    {\"messages\": [HumanMessage(content=\"what the weather in valsad? now\")]},\n",
    "    config,\n",
    "    stream_mode=\"values\",\n",
    "):\n",
    "    step[\"messages\"][-1].pretty_print()"
   ]
  },
  {
   "cell_type": "code",
   "execution_count": 25,
   "id": "b287d2b9",
   "metadata": {},
   "outputs": [
    {
     "name": "stdout",
     "output_type": "stream",
     "text": [
      "================================\u001b[1m Human Message \u001b[0m=================================\n",
      "\n",
      "whats the weather where I live? valsad\n",
      "==================================\u001b[1m Ai Message \u001b[0m==================================\n",
      "Tool Calls:\n",
      "  tavily_search_results_json (call_qw1j)\n",
      " Call ID: call_qw1j\n",
      "  Args:\n",
      "    query: weather in valsad\n",
      "=================================\u001b[1m Tool Message \u001b[0m=================================\n",
      "Name: tavily_search_results_json\n",
      "\n",
      "[{\"title\": \"[PDF] Weather forecast Bulletin for Gujarat state and Diu, Daman, Dadra ...\", \"url\": \"https://mausam.imd.gov.in/ahmedabad/mcdata/state.pdf\", \"content\": \"the remaining districts of the region. DAY-5 (Valid from 0830 Hrs. IST of 02/06/2025 to 0830 Hrs. IST of 03/06/2025) Light to Moderate rain/thundershowers very likely at isolated places in the districts of North Gujarat region namely Panchmahal & Dahod; at isolated places in all the districts of South Gujarat region namely Vadodara, Chhota Udepur, Narmada, Bharuch, Surat, Dang, Navsari, Valsad, Tapi and in Daman, Dadara Nagar Haveli; at isolated places in the districts of Saurashtra namely [...] Navsari, Valsad, Tapi and in Daman, Dadara Nagar Haveli; at isolated places in the districts of Saurashtra namely Amreli, Bhavnagar, Gir Somnath, and in Diu. Dry weather very likely in the remaining districts of the region. DAY-7 (Valid from 0830 Hrs. IST of 04/06/2025 to 0830 Hrs. IST of 05/06/2025) Light to Moderate rain/thundershowers very likely at isolated places in the districts of North Gujarat region namely Panchmahal & Dahod; at isolated places in all the districts of South Gujarat [...] region. DAY-1 (Valid from time of origin to 0830 Hrs. IST of 30/05/2025) Light to Moderate rain/thundershowers very likely at a few places in all the districts of North Gujarat region namely Banaskantha, Patan, Mehsana, Sabarkantha, Gandhinagar, Aravalli, Kheda, Ahmedabad, Anand, Panchmahal, Dahod and Mahisagar; at a few places in all the districts of South Gujarat region namely Vadodara, Chhota Udepur, Narmada, Bharuch, Surat, Dang, Navsari, Valsad, Tapi and in Daman, Dadara Nagar Haveli; at\", \"score\": 0.8559598}, {\"title\": \"Valsad 30 days weather forecast, Valsad weather forecast | QWeather\", \"url\": \"https://www.qweather.com/en/weather30d/valsad-4BB9D.html\", \"content\": \"In the next 30 days, there will be 21 days of rain, the Max Temp is 35°(03-Jun, 05-Jun, 06-Jun) and the Min Temp is 26°(03-Jun, 17-Jun, 18-Jun, 19-Jun).\", \"score\": 0.7507177}]\n",
      "==================================\u001b[1m Ai Message \u001b[0m==================================\n",
      "\n",
      "The current weather in Valsad is expected to be partly cloudy with a chance of light to moderate rain/thundershowers at isolated places. The maximum temperature is expected to be around 35°C, while the minimum temperature is expected to be around 26°C.\n"
     ]
    }
   ],
   "source": [
    "for step in agent_executor.stream(\n",
    "    {\"messages\": [HumanMessage(content=\"whats the weather where I live? valsad\")]},\n",
    "    config,\n",
    "    stream_mode=\"values\",\n",
    "):\n",
    "    step[\"messages\"][-1].pretty_print()"
   ]
  },
  {
   "cell_type": "code",
   "execution_count": null,
   "id": "5399fe18",
   "metadata": {},
   "outputs": [],
   "source": []
  },
  {
   "cell_type": "code",
   "execution_count": null,
   "id": "2a46b560",
   "metadata": {},
   "outputs": [],
   "source": []
  },
  {
   "cell_type": "code",
   "execution_count": null,
   "id": "6cdbe187",
   "metadata": {},
   "outputs": [],
   "source": []
  },
  {
   "cell_type": "code",
   "execution_count": null,
   "id": "3a6d5ed6",
   "metadata": {},
   "outputs": [],
   "source": []
  },
  {
   "cell_type": "code",
   "execution_count": null,
   "id": "74a255f8",
   "metadata": {},
   "outputs": [],
   "source": []
  },
  {
   "cell_type": "code",
   "execution_count": null,
   "id": "dc4d9cea",
   "metadata": {},
   "outputs": [],
   "source": []
  }
 ],
 "metadata": {
  "kernelspec": {
   "display_name": ".venv",
   "language": "python",
   "name": "python3"
  },
  "language_info": {
   "codemirror_mode": {
    "name": "ipython",
    "version": 3
   },
   "file_extension": ".py",
   "mimetype": "text/x-python",
   "name": "python",
   "nbconvert_exporter": "python",
   "pygments_lexer": "ipython3",
   "version": "3.13.3"
  }
 },
 "nbformat": 4,
 "nbformat_minor": 5
}
